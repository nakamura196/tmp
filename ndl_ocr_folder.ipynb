{
  "nbformat": 4,
  "nbformat_minor": 0,
  "metadata": {
    "colab": {
      "name": "ndl_ocr_folder.ipynb",
      "provenance": [],
      "background_execution": "on",
      "private_outputs": true,
      "collapsed_sections": [],
      "authorship_tag": "ABX9TyMqHTwsfSj62TbziMQknzn0",
      "include_colab_link": true
    },
    "kernelspec": {
      "name": "python3",
      "display_name": "Python 3"
    },
    "language_info": {
      "name": "python"
    },
    "accelerator": "GPU"
  },
  "cells": [
    {
      "cell_type": "markdown",
      "metadata": {
        "id": "view-in-github",
        "colab_type": "text"
      },
      "source": [
        "<a href=\"https://colab.research.google.com/github/nakamura196/tmp/blob/main/ndl_ocr_folder.ipynb\" target=\"_parent\"><img src=\"https://colab.research.google.com/assets/colab-badge.svg\" alt=\"Open In Colab\"/></a>"
      ]
    },
    {
      "cell_type": "markdown",
      "source": [
        "# NDLOCRチュートリアル2\n",
        "\n",
        "Google Drive上のフォルダを指定して、当該フォルダに含まれる複数画像に対してOCR処理を実行し、指定したフォルダに認識結果を出力します。\n",
        "\n",
        "参考：青池さんのノートブック"
      ],
      "metadata": {
        "id": "eQa1CxUBl9Ap"
      }
    },
    {
      "cell_type": "markdown",
      "source": [
        "## 使用方法\n",
        "\n",
        "- 「1.初期セットアップ」を実行してください。初回のみ実行が必要です。\n",
        "\n",
        "- 「2. 設定」を変更してください。\n",
        "\n",
        "- 「3. 実行」を行います。"
      ],
      "metadata": {
        "id": "ec7zStxNmULI"
      }
    },
    {
      "cell_type": "markdown",
      "source": [
        "## 1.初期セットアップ\n",
        "\n",
        "（時間がかかります。初回のみ実行が必要です。）実行後は、「出力を消去」されることをお勧めします。"
      ],
      "metadata": {
        "id": "4ZbNG-S2mVRy"
      }
    },
    {
      "cell_type": "code",
      "source": [
        "# @title 初期セットアップ\n",
        "\n",
        "%cd \"/content/\"\n",
        "\n",
        "# 6. google driveのマウント\n",
        "from google.colab import drive\n",
        "drive.mount('/content/drive/')\n",
        "\n",
        "# 1. NDLOCRのリポジトリをcloneする(--recursiveを忘れずに！)\n",
        "!git clone -q --recursive https://github.com/ndl-lab/ndlocr_cli\n",
        "\n",
        "# 2. 必要なパッケージをインストールする\n",
        "PROJECT_DIR=\"/content/ndlocr_cli\"\n",
        "!pip install -r {PROJECT_DIR}/requirements.txt\n",
        "!pip install -q torch==1.8.1+cu111 torchvision==0.9.1+cu111 -f https://download.pytorch.org/whl/lts/1.8/torch_lts.html\n",
        "!pip install -q mmcv-full==1.4.0 -f https://download.openmmlab.com/mmcv/dist/cu111/torch1.8.0/index.html\n",
        "##numpyのバージョン問題でcolabでは動かなかったのでアップデートする(参考:https://stackoverflow.com/questions/66060487/valueerror-numpy-ndarray-size-changed-may-indicate-binary-incompatibility-exp)\n",
        "!pip install -q --upgrade numpy\n",
        "\n",
        "%cd {PROJECT_DIR}/src/ndl_layout/mmdetection\n",
        "!python setup.py bdist_wheel\n",
        "!pip install -q dist/*.whl\n",
        "# %cd /content\n",
        "\n",
        "# # 4. OCRに必要な学習済みモデルをダウンロードする\n",
        "\n",
        "%cd {PROJECT_DIR}\n",
        "!wget https://lab.ndl.go.jp/dataset/ndlocr/text_recognition/mojilist_NDL.txt -P ./src/text_recognition/models\n",
        "!wget https://lab.ndl.go.jp/dataset/ndlocr/text_recognition/ndlenfixed64-mj0-synth1.pth -P ./src/text_recognition/models\n",
        "!wget https://lab.ndl.go.jp/dataset/ndlocr/ndl_layout/ndl_layout_config.py -P ./src/ndl_layout/models\n",
        "!wget https://lab.ndl.go.jp/dataset/ndlocr/ndl_layout/epoch_140_all_eql_bt.pth -P ./src/ndl_layout/models\n",
        "!wget https://lab.ndl.go.jp/dataset/ndlocr/separate_pages_ssd/weights.hdf5 -P ./src/separate_pages_ssd/ssd_tools\n",
        "\n",
        "# 5. 環境変数を追加する\n",
        "import os\n",
        "os.environ[\"PYTHONPATH\"]=os.environ[\"PYTHONPATH\"]+\":\"+f\"{PROJECT_DIR}/src/text_recognition/deep-text-recognition-benchmark\""
      ],
      "metadata": {
        "cellView": "form",
        "id": "YFJjVpZARBib"
      },
      "execution_count": null,
      "outputs": []
    },
    {
      "cell_type": "markdown",
      "source": [
        "## 2. 設定\n",
        "\n",
        "OCRの適用対象のファイルを設定します。\n",
        "\n",
        "- input_dir: 画像が格納されたフォルダへのパス\n",
        "- output_dir: 出力するフォルダへのパス\n",
        "- extensions: 実行対象のファイル拡張子（,区切りで複数指定可）\n",
        "\n",
        "`input_dir`と`output_dir`については、末尾に`/`の入力を忘れないようにしてください。"
      ],
      "metadata": {
        "id": "QZx0cstglhjA"
      }
    },
    {
      "cell_type": "code",
      "source": [
        "#@title 設定\n",
        "input_dir  = \"/content/drive/MyDrive/ndl_ocr/input/\" #@param {type:\"string\"}\n",
        "output_dir  = \"/content/drive/MyDrive/ndl_ocr/output/\" #@param {type:\"string\"}\n",
        "extensions = \"jpeg,jpg\" #@param {type:\"raw\"}"
      ],
      "metadata": {
        "id": "tiiixoMDP8_t",
        "cellView": "form"
      },
      "execution_count": null,
      "outputs": []
    },
    {
      "cell_type": "markdown",
      "source": [
        "## 3. 実行"
      ],
      "metadata": {
        "id": "lthLeYInlZT8"
      }
    },
    {
      "cell_type": "code",
      "source": [
        "#@title 実行\n",
        "\n",
        "def createParentDir(path):\n",
        "  basename = os.path.basename(path)\n",
        "  parent_path = os.path.dirname(path)\n",
        "  os.makedirs(parent_path, exist_ok=True)\n",
        "\n",
        "import glob\n",
        "def listFiles(input_dir, exts):\n",
        "  paths = []\n",
        "  ext_list = exts.split(\",\")\n",
        "  for ext in ext_list:\n",
        "    files = glob.glob(\"{}**/*.{}\".format(input_dir, ext), recursive=True)\n",
        "    paths.extend(files)\n",
        "\n",
        "  return sorted(paths)\n",
        "\n",
        "from tqdm import tqdm\n",
        "\n",
        "files = listFiles(input_dir, extensions)\n",
        "\n",
        "p = \"2..3\"\n",
        "\n",
        "for file in tqdm(files):\n",
        "  # 出力パスの作成\n",
        "  output_path = \"{}{}_p{}\".format(output_dir, file.replace(input_dir, \"\"), p)\n",
        "\n",
        "  if os.path.exists(output_path):\n",
        "    !rm -rf $output_path\n",
        "\n",
        "  createParentDir(output_path)\n",
        "  !python main.py infer -s f $file $output_path -x -p $p\n",
        "\n",
        "  basename_without_ext = os.path.splitext(os.path.basename(file))[0]\n",
        "\n",
        "  target_dirs = [\"pred_img\", \"txt\", \"xml\"]\n",
        "\n",
        "  for target_dir in target_dirs:\n",
        "    input_tmp_path = \"{}/{}/{}\".format(output_path, basename_without_ext, target_dir)\n",
        "    !mv $input_tmp_path/* $output_path\n",
        "\n",
        "  !rm $output_path/opt.json\n",
        "  !rm -rf $output_path/$basename_without_ext"
      ],
      "metadata": {
        "id": "U4-FS-BTQFjJ",
        "cellView": "form"
      },
      "execution_count": null,
      "outputs": []
    }
  ]
}